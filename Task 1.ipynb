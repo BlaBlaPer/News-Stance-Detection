{
 "cells": [
  {
   "cell_type": "markdown",
   "metadata": {},
   "source": [
    "# Task 1"
   ]
  },
  {
   "cell_type": "markdown",
   "metadata": {},
   "source": [
    "1. Split the training set into a training subset and a validation subset with the data number proportion about 9:1.The training subset and the validation subset should have similar ratios of the four classes. Statistics of the ratios should be presented."
   ]
  },
  {
   "cell_type": "code",
   "execution_count": 26,
   "metadata": {
    "collapsed": true
   },
   "outputs": [],
   "source": [
    "import numpy as np\n",
    "import pandas as pd\n",
    "from numpy import dot\n",
    "from numpy.linalg import norm\n",
    "\n",
    "import re\n",
    "\n",
    "#import libraries for data processing\n",
    "import nltk\n",
    "from nltk import FreqDist, word_tokenize\n",
    "from nltk.stem.wordnet import WordNetLemmatizer\n",
    "from nltk.corpus import stopwords\n",
    "\n",
    "#import libraries for vectorisation\n",
    "import gensim\n",
    "from gensim.models import Word2Vec\n",
    "\n",
    "#train validation set split\n",
    "from sklearn.model_selection import train_test_split\n",
    "\n",
    "#cosice distance\n",
    "from sklearn.metrics.pairwise import paired_cosine_distances\n",
    "\n",
    "#Counter for count word frequency\n",
    "from collections import Counter\n",
    "\n",
    "#import tqdm for feature construction\n",
    "from tqdm import tqdm\n",
    "\n",
    "#Plot\n",
    "import matplotlib.pyplot as plt\n",
    "import seaborn as sns\n",
    "from scipy import stats\n",
    "%matplotlib inline\n",
    "sns.set_style(\"white\")  \n",
    "\n",
    "#math for calculation\n",
    "import math\n",
    "\n",
    "\n",
    "#import the training set and test set\n",
    "Train_body = pd.read_csv('/Users/weisihan/Downloads/fnc-1-master/train_bodies.csv')\n",
    "Train_stance = pd.read_csv('/Users/weisihan/Downloads/fnc-1-master/train_stances.csv')\n",
    "Test_body = pd.read_csv('/Users/weisihan/Downloads/fnc-1-master/competition_test_bodies.csv')\n",
    "Test_stance = pd.read_csv('/Users/weisihan/Downloads/fnc-1-master/competition_test_stances.csv')"
   ]
  },
  {
   "cell_type": "code",
   "execution_count": 27,
   "metadata": {},
   "outputs": [
    {
     "data": {
      "text/html": [
       "<div>\n",
       "<style scoped>\n",
       "    .dataframe tbody tr th:only-of-type {\n",
       "        vertical-align: middle;\n",
       "    }\n",
       "\n",
       "    .dataframe tbody tr th {\n",
       "        vertical-align: top;\n",
       "    }\n",
       "\n",
       "    .dataframe thead th {\n",
       "        text-align: right;\n",
       "    }\n",
       "</style>\n",
       "<table border=\"1\" class=\"dataframe\">\n",
       "  <thead>\n",
       "    <tr style=\"text-align: right;\">\n",
       "      <th></th>\n",
       "      <th>Body ID</th>\n",
       "      <th>articleBody</th>\n",
       "    </tr>\n",
       "  </thead>\n",
       "  <tbody>\n",
       "    <tr>\n",
       "      <th>0</th>\n",
       "      <td>0</td>\n",
       "      <td>A small meteorite crashed into a wooded area i...</td>\n",
       "    </tr>\n",
       "    <tr>\n",
       "      <th>1</th>\n",
       "      <td>4</td>\n",
       "      <td>Last week we hinted at what was to come as Ebo...</td>\n",
       "    </tr>\n",
       "    <tr>\n",
       "      <th>2</th>\n",
       "      <td>5</td>\n",
       "      <td>(NEWSER) – Wonder how long a Quarter Pounder w...</td>\n",
       "    </tr>\n",
       "    <tr>\n",
       "      <th>3</th>\n",
       "      <td>6</td>\n",
       "      <td>Posting photos of a gun-toting child online, I...</td>\n",
       "    </tr>\n",
       "    <tr>\n",
       "      <th>4</th>\n",
       "      <td>7</td>\n",
       "      <td>At least 25 suspected Boko Haram insurgents we...</td>\n",
       "    </tr>\n",
       "  </tbody>\n",
       "</table>\n",
       "</div>"
      ],
      "text/plain": [
       "   Body ID                                        articleBody\n",
       "0        0  A small meteorite crashed into a wooded area i...\n",
       "1        4  Last week we hinted at what was to come as Ebo...\n",
       "2        5  (NEWSER) – Wonder how long a Quarter Pounder w...\n",
       "3        6  Posting photos of a gun-toting child online, I...\n",
       "4        7  At least 25 suspected Boko Haram insurgents we..."
      ]
     },
     "execution_count": 27,
     "metadata": {},
     "output_type": "execute_result"
    }
   ],
   "source": [
    "Train_body.head()"
   ]
  },
  {
   "cell_type": "code",
   "execution_count": 28,
   "metadata": {},
   "outputs": [
    {
     "data": {
      "text/html": [
       "<div>\n",
       "<style scoped>\n",
       "    .dataframe tbody tr th:only-of-type {\n",
       "        vertical-align: middle;\n",
       "    }\n",
       "\n",
       "    .dataframe tbody tr th {\n",
       "        vertical-align: top;\n",
       "    }\n",
       "\n",
       "    .dataframe thead th {\n",
       "        text-align: right;\n",
       "    }\n",
       "</style>\n",
       "<table border=\"1\" class=\"dataframe\">\n",
       "  <thead>\n",
       "    <tr style=\"text-align: right;\">\n",
       "      <th></th>\n",
       "      <th>Headline</th>\n",
       "      <th>Body ID</th>\n",
       "      <th>Stance</th>\n",
       "    </tr>\n",
       "  </thead>\n",
       "  <tbody>\n",
       "    <tr>\n",
       "      <th>0</th>\n",
       "      <td>Police find mass graves with at least '15 bodi...</td>\n",
       "      <td>712</td>\n",
       "      <td>unrelated</td>\n",
       "    </tr>\n",
       "    <tr>\n",
       "      <th>1</th>\n",
       "      <td>Hundreds of Palestinians flee floods in Gaza a...</td>\n",
       "      <td>158</td>\n",
       "      <td>agree</td>\n",
       "    </tr>\n",
       "    <tr>\n",
       "      <th>2</th>\n",
       "      <td>Christian Bale passes on role of Steve Jobs, a...</td>\n",
       "      <td>137</td>\n",
       "      <td>unrelated</td>\n",
       "    </tr>\n",
       "    <tr>\n",
       "      <th>3</th>\n",
       "      <td>HBO and Apple in Talks for $15/Month Apple TV ...</td>\n",
       "      <td>1034</td>\n",
       "      <td>unrelated</td>\n",
       "    </tr>\n",
       "    <tr>\n",
       "      <th>4</th>\n",
       "      <td>Spider burrowed through tourist's stomach and ...</td>\n",
       "      <td>1923</td>\n",
       "      <td>disagree</td>\n",
       "    </tr>\n",
       "  </tbody>\n",
       "</table>\n",
       "</div>"
      ],
      "text/plain": [
       "                                            Headline  Body ID     Stance\n",
       "0  Police find mass graves with at least '15 bodi...      712  unrelated\n",
       "1  Hundreds of Palestinians flee floods in Gaza a...      158      agree\n",
       "2  Christian Bale passes on role of Steve Jobs, a...      137  unrelated\n",
       "3  HBO and Apple in Talks for $15/Month Apple TV ...     1034  unrelated\n",
       "4  Spider burrowed through tourist's stomach and ...     1923   disagree"
      ]
     },
     "execution_count": 28,
     "metadata": {},
     "output_type": "execute_result"
    }
   ],
   "source": [
    "Train_stance.head()"
   ]
  },
  {
   "cell_type": "code",
   "execution_count": 29,
   "metadata": {},
   "outputs": [
    {
     "data": {
      "text/plain": [
       "(49972, 4)"
      ]
     },
     "execution_count": 29,
     "metadata": {},
     "output_type": "execute_result"
    }
   ],
   "source": [
    "#Change the name of trainingset column 'Body ID' to 'Body_ID'\n",
    "Train_stance.rename(columns={'Body ID':'Body_ID'}, inplace=True) \n",
    "Train_body.rename(columns={'Body ID':'Body_ID'}, inplace=True) \n",
    "#Merge table Train_stance and Train_body\n",
    "Train_df = pd.merge(Train_stance, Train_body, how='inner', on=\"Body_ID\",  copy=True)  \n",
    "#Change the sequence of column for better view hehe\n",
    "Train_df=Train_df[['Headline', 'Body_ID', 'articleBody','Stance']]\n",
    "Train_df.shape"
   ]
  },
  {
   "cell_type": "code",
   "execution_count": 30,
   "metadata": {},
   "outputs": [
    {
     "data": {
      "text/plain": [
       "(25413, 4)"
      ]
     },
     "execution_count": 30,
     "metadata": {},
     "output_type": "execute_result"
    }
   ],
   "source": [
    "#Change the name of testset column 'Body ID' to 'Body_ID'\n",
    "Test_stance.rename(columns={'Body ID':'Body_ID'}, inplace=True) \n",
    "Test_body.rename(columns={'Body ID':'Body_ID'}, inplace=True) \n",
    "#Merge table Train_stance and Train_body\n",
    "Test_df = pd.merge(Test_stance, Test_body, how='inner', on=\"Body_ID\",  copy=True)  \n",
    "#Change the sequence of column for better view hehe\n",
    "Test_df=Test_df[['Headline', 'Body_ID', 'articleBody']]\n",
    "Test_df['Stance']='NAN'\n",
    "Test_df.shape"
   ]
  },
  {
   "cell_type": "code",
   "execution_count": 31,
   "metadata": {},
   "outputs": [
    {
     "data": {
      "text/plain": [
       "count                                                 49972\n",
       "unique                                                 1669\n",
       "top       The man who jumped the White House fence this ...\n",
       "freq                                                    187\n",
       "Name: articleBody, dtype: object"
      ]
     },
     "execution_count": 31,
     "metadata": {},
     "output_type": "execute_result"
    }
   ],
   "source": [
    "Train_df['articleBody'].describe()"
   ]
  },
  {
   "cell_type": "code",
   "execution_count": 32,
   "metadata": {},
   "outputs": [
    {
     "data": {
      "text/plain": [
       "count                                             49972\n",
       "unique                                             1648\n",
       "top       ISIL Beheads American Photojournalist in Iraq\n",
       "freq                                                127\n",
       "Name: Headline, dtype: object"
      ]
     },
     "execution_count": 32,
     "metadata": {},
     "output_type": "execute_result"
    }
   ],
   "source": [
    "Train_df['Headline'].describe()"
   ]
  },
  {
   "cell_type": "code",
   "execution_count": 33,
   "metadata": {
    "collapsed": true
   },
   "outputs": [],
   "source": [
    "# define a function to count the number of different stance class\n",
    "from collections import Counter\n",
    "\n",
    "def Stance_classes(df):\n",
    "    col='Stance'\n",
    "    stances_num = Counter(df[col])\n",
    "    stances_df = pd.DataFrame.from_dict(stances_num, orient='index')\n",
    "    stances_df.columns = ['count']\n",
    "    stances_df = stances_df.sort_values(['count'], ascending=False)\n",
    "    total_stance_num = 0\n",
    "    for index, row in stances_df.iterrows():\n",
    "        total_stance_num += row['count']\n",
    "    stances_df['%counts'] = round(stances_df['count']/total_stance_num*100)\n",
    "    #stances_data['count'].plot(kind='bar')\n",
    "    print(stances_df)"
   ]
  },
  {
   "cell_type": "code",
   "execution_count": 34,
   "metadata": {},
   "outputs": [
    {
     "name": "stdout",
     "output_type": "stream",
     "text": [
      "           count  %counts\n",
      "unrelated  36545     73.0\n",
      "discuss     8909     18.0\n",
      "agree       3678      7.0\n",
      "disagree     840      2.0\n"
     ]
    }
   ],
   "source": [
    "Train_stances_df = Stance_classes(Train_df)\n",
    "#Test_stances_df = Stance_classes(Test_df)"
   ]
  },
  {
   "cell_type": "code",
   "execution_count": 35,
   "metadata": {
    "collapsed": true
   },
   "outputs": [],
   "source": [
    "def trts_split(df):\n",
    "    tts_df = df.copy()\n",
    "    X = tts_df[['Headline','Body_ID','articleBody']]\n",
    "    y = tts_df['Stance']\n",
    "    \n",
    "    X_train, X_valid, y_train, y_valid = train_test_split(X, y, test_size=0.1, random_state=123)\n",
    "    Xy_train = pd.concat([X_train,y_train],axis=1)\n",
    "    Xy_valid = pd.concat([X_valid,y_valid],axis=1)\n",
    "    return  Xy_train, Xy_valid"
   ]
  },
  {
   "cell_type": "code",
   "execution_count": 36,
   "metadata": {
    "collapsed": true
   },
   "outputs": [],
   "source": [
    "All_agree = Train_df[Train_df['Stance']=='agree']\n",
    "All_disagree = Train_df[Train_df['Stance']=='disagree']\n",
    "All_discuss = Train_df[Train_df['Stance']=='discuss']\n",
    "All_unrelated = Train_df[Train_df['Stance']=='unrelated']"
   ]
  },
  {
   "cell_type": "code",
   "execution_count": 37,
   "metadata": {},
   "outputs": [
    {
     "name": "stdout",
     "output_type": "stream",
     "text": [
      "Headline       44974\n",
      "Body_ID        44974\n",
      "articleBody    44974\n",
      "Stance         44974\n",
      "dtype: int64 Headline       4998\n",
      "Body_ID        4998\n",
      "articleBody    4998\n",
      "Stance         4998\n",
      "dtype: int64\n"
     ]
    }
   ],
   "source": [
    "Train_df_agree, Valid_df_agree = trts_split(All_agree)\n",
    "Train_df_disagree, Valid_df_disagree = trts_split(All_disagree)\n",
    "Train_df_discuss, Valid_df_discuss = trts_split(All_discuss)\n",
    "Train_df_unrelated, Valid_df_unrelated = trts_split(All_unrelated)\n",
    "\n",
    "Train_set = pd.concat([Train_df_agree,Train_df_disagree,Train_df_discuss,Train_df_unrelated])\n",
    "Valid_set = pd.concat([Valid_df_agree,Valid_df_disagree,Valid_df_discuss,Valid_df_unrelated])\n",
    "print(Train_set.count(),Valid_set.count())"
   ]
  },
  {
   "cell_type": "code",
   "execution_count": 38,
   "metadata": {},
   "outputs": [
    {
     "data": {
      "text/html": [
       "<div>\n",
       "<style scoped>\n",
       "    .dataframe tbody tr th:only-of-type {\n",
       "        vertical-align: middle;\n",
       "    }\n",
       "\n",
       "    .dataframe tbody tr th {\n",
       "        vertical-align: top;\n",
       "    }\n",
       "\n",
       "    .dataframe thead th {\n",
       "        text-align: right;\n",
       "    }\n",
       "</style>\n",
       "<table border=\"1\" class=\"dataframe\">\n",
       "  <thead>\n",
       "    <tr style=\"text-align: right;\">\n",
       "      <th></th>\n",
       "      <th>Headline</th>\n",
       "      <th>Body_ID</th>\n",
       "      <th>articleBody</th>\n",
       "    </tr>\n",
       "    <tr>\n",
       "      <th>Stance</th>\n",
       "      <th></th>\n",
       "      <th></th>\n",
       "      <th></th>\n",
       "    </tr>\n",
       "  </thead>\n",
       "  <tbody>\n",
       "    <tr>\n",
       "      <th>agree</th>\n",
       "      <td>3310</td>\n",
       "      <td>3310</td>\n",
       "      <td>3310</td>\n",
       "    </tr>\n",
       "    <tr>\n",
       "      <th>disagree</th>\n",
       "      <td>756</td>\n",
       "      <td>756</td>\n",
       "      <td>756</td>\n",
       "    </tr>\n",
       "    <tr>\n",
       "      <th>discuss</th>\n",
       "      <td>8018</td>\n",
       "      <td>8018</td>\n",
       "      <td>8018</td>\n",
       "    </tr>\n",
       "    <tr>\n",
       "      <th>unrelated</th>\n",
       "      <td>32890</td>\n",
       "      <td>32890</td>\n",
       "      <td>32890</td>\n",
       "    </tr>\n",
       "  </tbody>\n",
       "</table>\n",
       "</div>"
      ],
      "text/plain": [
       "           Headline  Body_ID  articleBody\n",
       "Stance                                   \n",
       "agree          3310     3310         3310\n",
       "disagree        756      756          756\n",
       "discuss        8018     8018         8018\n",
       "unrelated     32890    32890        32890"
      ]
     },
     "execution_count": 38,
     "metadata": {},
     "output_type": "execute_result"
    }
   ],
   "source": [
    "Train_set.groupby('Stance').count()"
   ]
  },
  {
   "cell_type": "code",
   "execution_count": 42,
   "metadata": {},
   "outputs": [
    {
     "data": {
      "text/html": [
       "<div>\n",
       "<style scoped>\n",
       "    .dataframe tbody tr th:only-of-type {\n",
       "        vertical-align: middle;\n",
       "    }\n",
       "\n",
       "    .dataframe tbody tr th {\n",
       "        vertical-align: top;\n",
       "    }\n",
       "\n",
       "    .dataframe thead th {\n",
       "        text-align: right;\n",
       "    }\n",
       "</style>\n",
       "<table border=\"1\" class=\"dataframe\">\n",
       "  <thead>\n",
       "    <tr style=\"text-align: right;\">\n",
       "      <th></th>\n",
       "      <th>Headline</th>\n",
       "      <th>Body_ID</th>\n",
       "      <th>articleBody</th>\n",
       "    </tr>\n",
       "    <tr>\n",
       "      <th>Stance</th>\n",
       "      <th></th>\n",
       "      <th></th>\n",
       "      <th></th>\n",
       "    </tr>\n",
       "  </thead>\n",
       "  <tbody>\n",
       "    <tr>\n",
       "      <th>agree</th>\n",
       "      <td>368</td>\n",
       "      <td>368</td>\n",
       "      <td>368</td>\n",
       "    </tr>\n",
       "    <tr>\n",
       "      <th>disagree</th>\n",
       "      <td>84</td>\n",
       "      <td>84</td>\n",
       "      <td>84</td>\n",
       "    </tr>\n",
       "    <tr>\n",
       "      <th>discuss</th>\n",
       "      <td>891</td>\n",
       "      <td>891</td>\n",
       "      <td>891</td>\n",
       "    </tr>\n",
       "    <tr>\n",
       "      <th>unrelated</th>\n",
       "      <td>3655</td>\n",
       "      <td>3655</td>\n",
       "      <td>3655</td>\n",
       "    </tr>\n",
       "  </tbody>\n",
       "</table>\n",
       "</div>"
      ],
      "text/plain": [
       "           Headline  Body_ID  articleBody\n",
       "Stance                                   \n",
       "agree           368      368          368\n",
       "disagree         84       84           84\n",
       "discuss         891      891          891\n",
       "unrelated      3655     3655         3655"
      ]
     },
     "execution_count": 42,
     "metadata": {},
     "output_type": "execute_result"
    }
   ],
   "source": [
    "Valid_set.groupby('Stance').count()"
   ]
  },
  {
   "cell_type": "code",
   "execution_count": 39,
   "metadata": {},
   "outputs": [
    {
     "name": "stdout",
     "output_type": "stream",
     "text": [
      "The ratio of the four class in trainning set is:  Agree: 0.073598, Disagree: 0.016810, Discuss: 0.178281, Unrelated: 0.731311\n",
      "The ratio of the four class in validation set is: Agree: 0.073629, Disagree: 0.016807, Discuss: 0.178271, Unrelated: 0.731293\n"
     ]
    }
   ],
   "source": [
    "Train_ratio = Train_set.groupby('Stance').count()['Body_ID'] / (Train_set.groupby('Stance').count()['Body_ID']).sum()\n",
    "Valid_ratio = Valid_set.groupby('Stance').count()['Body_ID'] / (Valid_set.groupby('Stance').count()['Body_ID']).sum()\n",
    "\n",
    "TR = list(Train_ratio)\n",
    "VR = list(Valid_ratio)\n",
    "print('The ratio of the four class in trainning set is:  Agree: %f, Disagree: %f, Discuss: %f, Unrelated: %f' %(TR[0],TR[1],TR[2],TR[3]) )\n",
    "print('The ratio of the four class in validation set is: Agree: %f, Disagree: %f, Discuss: %f, Unrelated: %f' %(VR[0],VR[1],VR[2],VR[3]) )\n"
   ]
  },
  {
   "cell_type": "code",
   "execution_count": 58,
   "metadata": {},
   "outputs": [
    {
     "name": "stderr",
     "output_type": "stream",
     "text": [
      "/Users/weisihan/anaconda3/lib/python3.6/site-packages/matplotlib/legend.py:326: UserWarning: Unrecognized location \"bests\". Falling back on \"best\"; valid locations are\n",
      "\tbest\n",
      "\tupper right\n",
      "\tupper left\n",
      "\tlower left\n",
      "\tlower right\n",
      "\tright\n",
      "\tcenter left\n",
      "\tcenter right\n",
      "\tlower center\n",
      "\tupper center\n",
      "\tcenter\n",
      "\n",
      "  % (loc, '\\n\\t'.join(self.codes)))\n"
     ]
    },
    {
     "data": {
      "image/png": "[encoded data removed]",
      "text/plain": [
       "<matplotlib.figure.Figure at 0x1a16965b00>"
      ]
     },
     "metadata": {},
     "output_type": "display_data"
    }
   ],
   "source": [
    "agree_train=Train_set.groupby('Stance').count()['Body_ID'][0]\n",
    "disagree_train=Train_set.groupby('Stance').count()['Body_ID'][1]\n",
    "discuss_train=Train_set.groupby('Stance').count()['Body_ID'][2]\n",
    "unrelated_train=Train_set.groupby('Stance').count()['Body_ID'][3]\n",
    "\n",
    "agree_valid=Valid_set.groupby('Stance').count()['Body_ID'][0]\n",
    "disagree_valid=Valid_set.groupby('Stance').count()['Body_ID'][1]\n",
    "discuss_valid=Valid_set.groupby('Stance').count()['Body_ID'][2]\n",
    "unrelated_valid=Valid_set.groupby('Stance').count()['Body_ID'][3]\n",
    "\n",
    "catgory=['agree','disagree','discuss','unrelated']\n",
    "train = np.array([agree_train,disagree_train,discuss_train,unrelated_train])\n",
    "val = np.array([agree_valid,disagree_valid,discuss_valid,unrelated_valid])\n",
    "\n",
    "x = np.arange(len(catgory))\n",
    "width = 0.5\n",
    "fig,ax =plt.subplots()\n",
    "b1=ax.bar(x,train,width,color='skyblue')\n",
    "b2=ax.bar(x,val,width,train,color='darkorange')\n",
    "ax.set_xticks(x)\n",
    "ax.set_xticklabels(catgory)\n",
    "ax.legend(('train', 'vals'),loc=\"bests\")\n",
    "\n",
    "value=[agree_train/agree_valid,disagree_train/disagree_valid,discuss_train/discuss_valid,unrelated_train/unrelated_valid]\n",
    "\n",
    "\n",
    "count=0\n",
    "for rect in b1:\n",
    "    h=rect.get_height()\n",
    "    ax.text(rect.get_x()+rect.get_width()/2,h+1000,'Ratio%.2f'%value[count],ha='center',va='bottom')\n",
    "    count+=1\n",
    "\n",
    "plt.show()\n"
   ]
  },
  {
   "cell_type": "code",
   "execution_count": 40,
   "metadata": {},
   "outputs": [
    {
     "data": {
      "text/html": [
       "<div>\n",
       "<style scoped>\n",
       "    .dataframe tbody tr th:only-of-type {\n",
       "        vertical-align: middle;\n",
       "    }\n",
       "\n",
       "    .dataframe tbody tr th {\n",
       "        vertical-align: top;\n",
       "    }\n",
       "\n",
       "    .dataframe thead th {\n",
       "        text-align: right;\n",
       "    }\n",
       "</style>\n",
       "<table border=\"1\" class=\"dataframe\">\n",
       "  <thead>\n",
       "    <tr style=\"text-align: right;\">\n",
       "      <th></th>\n",
       "      <th>Headline</th>\n",
       "      <th>Body_ID</th>\n",
       "      <th>articleBody</th>\n",
       "      <th>Stance</th>\n",
       "    </tr>\n",
       "  </thead>\n",
       "  <tbody>\n",
       "    <tr>\n",
       "      <th>21984</th>\n",
       "      <td>Apple Watch Battery Life Currently 'About a Da...</td>\n",
       "      <td>2213</td>\n",
       "      <td>On Tuesday, Apple unveiled its first wearable ...</td>\n",
       "      <td>agree</td>\n",
       "    </tr>\n",
       "    <tr>\n",
       "      <th>37301</th>\n",
       "      <td>Devoted pet owner spends £300 to save his GOLD...</td>\n",
       "      <td>1707</td>\n",
       "      <td>A devoted pet owner has spent £300 on saving t...</td>\n",
       "      <td>agree</td>\n",
       "    </tr>\n",
       "    <tr>\n",
       "      <th>43316</th>\n",
       "      <td>Texas plumber's truck spotted in Syria: 'We ha...</td>\n",
       "      <td>2242</td>\n",
       "      <td>A Texas plumber is getting death threats after...</td>\n",
       "      <td>agree</td>\n",
       "    </tr>\n",
       "    <tr>\n",
       "      <th>31986</th>\n",
       "      <td>ISIS executioner 'Jihadi John' identified as M...</td>\n",
       "      <td>1198</td>\n",
       "      <td>ISIS video screenshot\\n\\nWhat We Know So Far\\n...</td>\n",
       "      <td>agree</td>\n",
       "    </tr>\n",
       "    <tr>\n",
       "      <th>39781</th>\n",
       "      <td>No, Banksy Didn't Create That 'Charlie Hebdo' ...</td>\n",
       "      <td>1357</td>\n",
       "      <td>There's an illustration being shared on Facebo...</td>\n",
       "      <td>agree</td>\n",
       "    </tr>\n",
       "  </tbody>\n",
       "</table>\n",
       "</div>"
      ],
      "text/plain": [
       "                                                Headline  Body_ID  \\\n",
       "21984  Apple Watch Battery Life Currently 'About a Da...     2213   \n",
       "37301  Devoted pet owner spends £300 to save his GOLD...     1707   \n",
       "43316  Texas plumber's truck spotted in Syria: 'We ha...     2242   \n",
       "31986  ISIS executioner 'Jihadi John' identified as M...     1198   \n",
       "39781  No, Banksy Didn't Create That 'Charlie Hebdo' ...     1357   \n",
       "\n",
       "                                             articleBody Stance  \n",
       "21984  On Tuesday, Apple unveiled its first wearable ...  agree  \n",
       "37301  A devoted pet owner has spent £300 on saving t...  agree  \n",
       "43316  A Texas plumber is getting death threats after...  agree  \n",
       "31986  ISIS video screenshot\\n\\nWhat We Know So Far\\n...  agree  \n",
       "39781  There's an illustration being shared on Facebo...  agree  "
      ]
     },
     "execution_count": 40,
     "metadata": {},
     "output_type": "execute_result"
    }
   ],
   "source": [
    "Train_set.head()"
   ]
  },
  {
   "cell_type": "code",
   "execution_count": 41,
   "metadata": {},
   "outputs": [
    {
     "data": {
      "text/html": [
       "<div>\n",
       "<style scoped>\n",
       "    .dataframe tbody tr th:only-of-type {\n",
       "        vertical-align: middle;\n",
       "    }\n",
       "\n",
       "    .dataframe tbody tr th {\n",
       "        vertical-align: top;\n",
       "    }\n",
       "\n",
       "    .dataframe thead th {\n",
       "        text-align: right;\n",
       "    }\n",
       "</style>\n",
       "<table border=\"1\" class=\"dataframe\">\n",
       "  <thead>\n",
       "    <tr style=\"text-align: right;\">\n",
       "      <th></th>\n",
       "      <th>Headline</th>\n",
       "      <th>Body_ID</th>\n",
       "      <th>articleBody</th>\n",
       "      <th>Stance</th>\n",
       "    </tr>\n",
       "  </thead>\n",
       "  <tbody>\n",
       "    <tr>\n",
       "      <th>47914</th>\n",
       "      <td>Tiger Woods' former luxury island goes on sale</td>\n",
       "      <td>1991</td>\n",
       "      <td>Golfers, take note — Tiger Woods’ Swedish luxu...</td>\n",
       "      <td>agree</td>\n",
       "    </tr>\n",
       "    <tr>\n",
       "      <th>47955</th>\n",
       "      <td>Jilted lover spends a week in KFC to try and g...</td>\n",
       "      <td>1551</td>\n",
       "      <td>We’ve all had that feeling of being jilted by ...</td>\n",
       "      <td>agree</td>\n",
       "    </tr>\n",
       "    <tr>\n",
       "      <th>23222</th>\n",
       "      <td>I aborted my baby because it was a boy</td>\n",
       "      <td>1494</td>\n",
       "      <td>I aborted my baby because it was a boy</td>\n",
       "      <td>agree</td>\n",
       "    </tr>\n",
       "    <tr>\n",
       "      <th>18332</th>\n",
       "      <td>Is the Alleged Audio of the Gunshots That Kill...</td>\n",
       "      <td>1776</td>\n",
       "      <td>Former LAPD officer David Klinger and CNN law ...</td>\n",
       "      <td>agree</td>\n",
       "    </tr>\n",
       "    <tr>\n",
       "      <th>49918</th>\n",
       "      <td>Planetary Alignment Decrease Gravity Hoax on J...</td>\n",
       "      <td>1377</td>\n",
       "      <td>An article saying a “planetary alignment” on J...</td>\n",
       "      <td>agree</td>\n",
       "    </tr>\n",
       "  </tbody>\n",
       "</table>\n",
       "</div>"
      ],
      "text/plain": [
       "                                                Headline  Body_ID  \\\n",
       "47914     Tiger Woods' former luxury island goes on sale     1991   \n",
       "47955  Jilted lover spends a week in KFC to try and g...     1551   \n",
       "23222             I aborted my baby because it was a boy     1494   \n",
       "18332  Is the Alleged Audio of the Gunshots That Kill...     1776   \n",
       "49918  Planetary Alignment Decrease Gravity Hoax on J...     1377   \n",
       "\n",
       "                                             articleBody Stance  \n",
       "47914  Golfers, take note — Tiger Woods’ Swedish luxu...  agree  \n",
       "47955  We’ve all had that feeling of being jilted by ...  agree  \n",
       "23222             I aborted my baby because it was a boy  agree  \n",
       "18332  Former LAPD officer David Klinger and CNN law ...  agree  \n",
       "49918  An article saying a “planetary alignment” on J...  agree  "
      ]
     },
     "execution_count": 41,
     "metadata": {},
     "output_type": "execute_result"
    }
   ],
   "source": [
    "Valid_set.head()"
   ]
  }
 ],
 "metadata": {
  "kernelspec": {
   "display_name": "Python 3",
   "language": "python",
   "name": "python3"
  },
  "language_info": {
   "codemirror_mode": {
    "name": "ipython",
    "version": 3
   },
   "file_extension": ".py",
   "mimetype": "text/x-python",
   "name": "python",
   "nbconvert_exporter": "python",
   "pygments_lexer": "ipython3",
   "version": "3.6.2"
  }
 },
 "nbformat": 4,
 "nbformat_minor": 2
}
