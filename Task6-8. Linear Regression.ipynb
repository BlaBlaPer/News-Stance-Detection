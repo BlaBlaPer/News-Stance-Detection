{
 "cells": [
  {
   "cell_type": "markdown",
   "metadata": {},
   "source": [
    "## Task 6.1 Linear Regression"
   ]
  },
  {
   "cell_type": "markdown",
   "metadata": {},
   "source": [
    "T1-T5. Completed\n",
    "\n",
    "T6. Using the features that you have created, implement a linear regression and a logistic re- gression model using gradient descent for stance classification. The implementations of these learning algorithms should be your own..\n",
    "\n",
    "T7. Analyse the performance of your models using the test set. Describe the evaluation metric you use and explain why you think would be suited for this task. Feel free to use alternative metrics that you think may fit. Compare and contrast the performance of the two models you have implemented. Analyse the effect of learning rate on both models.\n",
    "\n",
    "T8. Explore which features are the most important for the stance detection task by analysing their importance for the machine learning models you have built."
   ]
  },
  {
   "cell_type": "code",
   "execution_count": 1,
   "metadata": {
    "collapsed": true
   },
   "outputs": [],
   "source": [
    "import numpy as np\n",
    "import pandas as pd\n",
    "import matplotlib.pyplot as plt\n",
    "import seaborn as sns \n",
    "%matplotlib inline"
   ]
  },
  {
   "cell_type": "code",
   "execution_count": 2,
   "metadata": {
    "collapsed": true
   },
   "outputs": [],
   "source": [
    "#import the training set \n",
    "Pred_Train_features = pd.read_csv('/Users/weisihan/Downloads/fnc-1-master/final/Pred_Train_features.csv')\n",
    "Pred_Test_features = pd.read_csv('/Users/weisihan/Downloads/fnc-1-master/final/Pred_Test_features.csv')"
   ]
  },
  {
   "cell_type": "code",
   "execution_count": 3,
   "metadata": {
    "collapsed": true
   },
   "outputs": [],
   "source": [
    "# Map Each Stance to a label\n",
    "def agree_to_flag(stance):\n",
    "    if stance == 'agree':\n",
    "        return 1\n",
    "    else:\n",
    "        return -1\n",
    "\n",
    "def disagree_to_flag(stance):\n",
    "    if stance == 'disagree':\n",
    "        return 1\n",
    "    else:\n",
    "        return -1\n",
    "    \n",
    "def discuss_to_flag(stance):\n",
    "    if stance == 'discuss':\n",
    "        return 1\n",
    "    else:\n",
    "        return -1\n",
    "    \n",
    "def unrelated_to_flag(stance):\n",
    "    if stance == 'unrelated':\n",
    "        return 1\n",
    "    else:\n",
    "        return -1\n",
    "    \n",
    "def stance_to_flag(stance):\n",
    "    if stance == 'agree':\n",
    "        return 1\n",
    "    elif stance == 'disagree':\n",
    "        return 2\n",
    "    elif stance == 'discuss':\n",
    "        return 3\n",
    "    else:\n",
    "        return 4"
   ]
  },
  {
   "cell_type": "code",
   "execution_count": 4,
   "metadata": {
    "collapsed": true
   },
   "outputs": [],
   "source": [
    "Pred_Train_features['y1'] = Pred_Train_features['Stance'].map(agree_to_flag)\n",
    "Pred_Train_features['y2'] = Pred_Train_features['Stance'].map(disagree_to_flag)\n",
    "Pred_Train_features['y3'] = Pred_Train_features['Stance'].map(discuss_to_flag)\n",
    "Pred_Train_features['y4'] = Pred_Train_features['Stance'].map(unrelated_to_flag)\n",
    "Pred_Train_features['y'] = Pred_Train_features['Stance'].map(stance_to_flag)\n",
    "\n",
    "Pred_Test_features['y1'] = Pred_Test_features['Stance'].map(agree_to_flag)\n",
    "Pred_Test_features['y2'] = Pred_Test_features['Stance'].map(disagree_to_flag)\n",
    "Pred_Test_features['y3'] = Pred_Test_features['Stance'].map(discuss_to_flag)\n",
    "Pred_Test_features['y4'] = Pred_Test_features['Stance'].map(unrelated_to_flag)\n",
    "Pred_Test_features['y'] = Pred_Test_features['Stance'].map(stance_to_flag)"
   ]
  },
  {
   "cell_type": "code",
   "execution_count": 5,
   "metadata": {},
   "outputs": [
    {
     "data": {
      "text/html": [
       "<div>\n",
       "<style scoped>\n",
       "    .dataframe tbody tr th:only-of-type {\n",
       "        vertical-align: middle;\n",
       "    }\n",
       "\n",
       "    .dataframe tbody tr th {\n",
       "        vertical-align: top;\n",
       "    }\n",
       "\n",
       "    .dataframe thead th {\n",
       "        text-align: right;\n",
       "    }\n",
       "</style>\n",
       "<table border=\"1\" class=\"dataframe\">\n",
       "  <thead>\n",
       "    <tr style=\"text-align: right;\">\n",
       "      <th></th>\n",
       "      <th>Headline</th>\n",
       "      <th>Body_ID</th>\n",
       "      <th>articleBody</th>\n",
       "      <th>Stance</th>\n",
       "      <th>cos_sim_w2v</th>\n",
       "      <th>cos_sim_tfidf</th>\n",
       "      <th>overlap</th>\n",
       "      <th>polar_h</th>\n",
       "      <th>polar_b</th>\n",
       "      <th>P_Cor_Coe_w2c</th>\n",
       "      <th>P_Cor_Coe_tfidf</th>\n",
       "      <th>Euc_distance_w2c</th>\n",
       "      <th>Euc_distance_tfidf</th>\n",
       "      <th>kl_dis</th>\n",
       "      <th>LM_kld</th>\n",
       "      <th>y1</th>\n",
       "      <th>y2</th>\n",
       "      <th>y3</th>\n",
       "      <th>y4</th>\n",
       "      <th>y</th>\n",
       "    </tr>\n",
       "  </thead>\n",
       "  <tbody>\n",
       "    <tr>\n",
       "      <th>0</th>\n",
       "      <td>police find mass graf least body near mexico t...</td>\n",
       "      <td>712</td>\n",
       "      <td>danny boyle directing untitled film seth rogen...</td>\n",
       "      <td>unrelated</td>\n",
       "      <td>-0.243617</td>\n",
       "      <td>-2.220446e-16</td>\n",
       "      <td>0.000000</td>\n",
       "      <td>0</td>\n",
       "      <td>0</td>\n",
       "      <td>-0.234044</td>\n",
       "      <td>-0.001445</td>\n",
       "      <td>1.577097</td>\n",
       "      <td>1.117929</td>\n",
       "      <td>118.890038</td>\n",
       "      <td>2.200789</td>\n",
       "      <td>-1</td>\n",
       "      <td>-1</td>\n",
       "      <td>-1</td>\n",
       "      <td>1</td>\n",
       "      <td>4</td>\n",
       "    </tr>\n",
       "    <tr>\n",
       "      <th>1</th>\n",
       "      <td>seth rogen play apple steve wozniak</td>\n",
       "      <td>712</td>\n",
       "      <td>danny boyle directing untitled film seth rogen...</td>\n",
       "      <td>discuss</td>\n",
       "      <td>0.851035</td>\n",
       "      <td>3.301286e-01</td>\n",
       "      <td>0.065217</td>\n",
       "      <td>0</td>\n",
       "      <td>0</td>\n",
       "      <td>0.849136</td>\n",
       "      <td>0.329755</td>\n",
       "      <td>0.545830</td>\n",
       "      <td>1.447857</td>\n",
       "      <td>8.457826</td>\n",
       "      <td>0.401247</td>\n",
       "      <td>-1</td>\n",
       "      <td>-1</td>\n",
       "      <td>1</td>\n",
       "      <td>-1</td>\n",
       "      <td>3</td>\n",
       "    </tr>\n",
       "  </tbody>\n",
       "</table>\n",
       "</div>"
      ],
      "text/plain": [
       "                                            Headline  Body_ID  \\\n",
       "0  police find mass graf least body near mexico t...      712   \n",
       "1                seth rogen play apple steve wozniak      712   \n",
       "\n",
       "                                         articleBody     Stance  cos_sim_w2v  \\\n",
       "0  danny boyle directing untitled film seth rogen...  unrelated    -0.243617   \n",
       "1  danny boyle directing untitled film seth rogen...    discuss     0.851035   \n",
       "\n",
       "   cos_sim_tfidf   overlap  polar_h  polar_b  P_Cor_Coe_w2c  P_Cor_Coe_tfidf  \\\n",
       "0  -2.220446e-16  0.000000        0        0      -0.234044        -0.001445   \n",
       "1   3.301286e-01  0.065217        0        0       0.849136         0.329755   \n",
       "\n",
       "   Euc_distance_w2c  Euc_distance_tfidf      kl_dis    LM_kld  y1  y2  y3  y4  \\\n",
       "0          1.577097            1.117929  118.890038  2.200789  -1  -1  -1   1   \n",
       "1          0.545830            1.447857    8.457826  0.401247  -1  -1   1  -1   \n",
       "\n",
       "   y  \n",
       "0  4  \n",
       "1  3  "
      ]
     },
     "execution_count": 5,
     "metadata": {},
     "output_type": "execute_result"
    }
   ],
   "source": [
    "Pred_Train_features.head(2)"
   ]
  },
  {
   "cell_type": "code",
   "execution_count": 6,
   "metadata": {},
   "outputs": [
    {
     "data": {
      "text/plain": [
       "array(['Headline', 'Body_ID', 'articleBody', 'Stance', 'cos_sim_w2v',\n",
       "       'cos_sim_tfidf', 'overlap', 'polar_h', 'polar_b', 'P_Cor_Coe_w2c',\n",
       "       'P_Cor_Coe_tfidf', 'Euc_distance_w2c', 'Euc_distance_tfidf',\n",
       "       'kl_dis', 'LM_kld', 'y1', 'y2', 'y3', 'y4', 'y'], dtype=object)"
      ]
     },
     "execution_count": 6,
     "metadata": {},
     "output_type": "execute_result"
    }
   ],
   "source": [
    "Pred_Train_features.columns.get_values()"
   ]
  },
  {
   "cell_type": "code",
   "execution_count": 7,
   "metadata": {},
   "outputs": [
    {
     "data": {
      "text/plain": [
       "array(['Headline', 'Body_ID', 'articleBody', 'Stance', 'cos_sim_tfidf',\n",
       "       'cos_sim_w2v', 'overlap', 'polar_h', 'polar_b', 'P_Cor_Coe_w2c',\n",
       "       'P_Cor_Coe_tfidf', 'Euc_distance_w2c', 'Euc_distance_tfidf',\n",
       "       'kl_dis', 'LM_kld', 'y1', 'y2', 'y3', 'y4', 'y'], dtype=object)"
      ]
     },
     "execution_count": 7,
     "metadata": {},
     "output_type": "execute_result"
    }
   ],
   "source": [
    "Pred_Test_features.columns.get_values()"
   ]
  },
  {
   "cell_type": "code",
   "execution_count": 173,
   "metadata": {},
   "outputs": [
    {
     "data": {
      "text/plain": [
       "(49972, 20)"
      ]
     },
     "execution_count": 173,
     "metadata": {},
     "output_type": "execute_result"
    }
   ],
   "source": [
    "Pred_Train_features.shape"
   ]
  },
  {
   "cell_type": "code",
   "execution_count": 8,
   "metadata": {},
   "outputs": [
    {
     "name": "stderr",
     "output_type": "stream",
     "text": [
      "/Users/weisihan/anaconda3/lib/python3.6/site-packages/sklearn/cross_validation.py:41: DeprecationWarning: This module was deprecated in version 0.18 in favor of the model_selection module into which all the refactored classes and functions are moved. Also note that the interface of the new CV iterators are different from that of this module. This module will be removed in 0.20.\n",
      "  \"This module will be removed in 0.20.\", DeprecationWarning)\n"
     ]
    }
   ],
   "source": [
    "from sklearn.cross_validation import train_test_split\n",
    "def trts_split(df):\n",
    "    tts_df = df.copy()\n",
    "    X = tts_df[['Headline', 'Body_ID', 'articleBody', 'cos_sim_w2v',\n",
    "       'cos_sim_tfidf', 'overlap', 'polar_h', 'polar_b', 'P_Cor_Coe_w2c',\n",
    "       'P_Cor_Coe_tfidf', 'Euc_distance_w2c', 'Euc_distance_tfidf',\n",
    "       'kl_dis', 'LM_kld','y1','y2','y3','y4','y']]\n",
    "    y = tts_df['Stance']\n",
    "    \n",
    "    X_train, X_valid, y_train, y_valid = train_test_split(X, y, test_size=0.1, random_state=123)\n",
    "    Xy_train = pd.concat([X_train,y_train],axis=1)\n",
    "    Xy_valid = pd.concat([X_valid,y_valid],axis=1)\n",
    "    return  Xy_train, Xy_valid"
   ]
  },
  {
   "cell_type": "code",
   "execution_count": 9,
   "metadata": {
    "collapsed": true
   },
   "outputs": [],
   "source": [
    "All_agree = Pred_Train_features[Pred_Train_features['Stance']=='agree']\n",
    "All_disagree = Pred_Train_features[Pred_Train_features['Stance']=='disagree']\n",
    "All_discuss = Pred_Train_features[Pred_Train_features['Stance']=='discuss']\n",
    "All_unrelated = Pred_Train_features[Pred_Train_features['Stance']=='unrelated']"
   ]
  },
  {
   "cell_type": "code",
   "execution_count": 10,
   "metadata": {
    "collapsed": true
   },
   "outputs": [
    {
     "name": "stdout",
     "output_type": "stream",
     "text": [
      "Headline              44974\n",
      "Body_ID               44974\n",
      "articleBody           44974\n",
      "cos_sim_w2v           44974\n",
      "cos_sim_tfidf         44974\n",
      "overlap               44974\n",
      "polar_h               44974\n",
      "polar_b               44974\n",
      "P_Cor_Coe_w2c         44974\n",
      "P_Cor_Coe_tfidf       44974\n",
      "Euc_distance_w2c      44974\n",
      "Euc_distance_tfidf    44974\n",
      "kl_dis                44974\n",
      "LM_kld                44974\n",
      "y1                    44974\n",
      "y2                    44974\n",
      "y3                    44974\n",
      "y4                    44974\n",
      "y                     44974\n",
      "Stance                44974\n",
      "dtype: int64 Headline              4998\n",
      "Body_ID               4998\n",
      "articleBody           4998\n",
      "cos_sim_w2v           4998\n",
      "cos_sim_tfidf         4998\n",
      "overlap               4998\n",
      "polar_h               4998\n",
      "polar_b               4998\n",
      "P_Cor_Coe_w2c         4998\n",
      "P_Cor_Coe_tfidf       4998\n",
      "Euc_distance_w2c      4998\n",
      "Euc_distance_tfidf    4998\n",
      "kl_dis                4998\n",
      "LM_kld                4998\n",
      "y1                    4998\n",
      "y2                    4998\n",
      "y3                    4998\n",
      "y4                    4998\n",
      "y                     4998\n",
      "Stance                4998\n",
      "dtype: int64\n"
     ]
    }
   ],
   "source": [
    "Train_df_agree, Valid_df_agree = trts_split(All_agree)\n",
    "Train_df_disagree, Valid_df_disagree = trts_split(All_disagree)\n",
    "Train_df_discuss, Valid_df_discuss = trts_split(All_discuss)\n",
    "Train_df_unrelated, Valid_df_unrelated = trts_split(All_unrelated)\n",
    "\n",
    "Train_set = pd.concat([Train_df_agree,Train_df_disagree,Train_df_discuss,Train_df_unrelated])\n",
    "Valid_set = pd.concat([Valid_df_agree,Valid_df_disagree,Valid_df_discuss,Valid_df_unrelated])\n",
    "print(Train_set.count(),Valid_set.count())"
   ]
  },
  {
   "cell_type": "code",
   "execution_count": 11,
   "metadata": {},
   "outputs": [
    {
     "data": {
      "text/plain": [
       "(4998, 20)"
      ]
     },
     "execution_count": 11,
     "metadata": {},
     "output_type": "execute_result"
    }
   ],
   "source": [
    "Valid_set.shape"
   ]
  },
  {
   "cell_type": "code",
   "execution_count": 12,
   "metadata": {},
   "outputs": [
    {
     "data": {
      "text/plain": [
       "(44974, 20)"
      ]
     },
     "execution_count": 12,
     "metadata": {},
     "output_type": "execute_result"
    }
   ],
   "source": [
    "Train_set.shape"
   ]
  },
  {
   "cell_type": "code",
   "execution_count": 116,
   "metadata": {
    "collapsed": true
   },
   "outputs": [],
   "source": [
    "#Select Training Features. I would like to use cos_sim_tfidf, overlap, P_Cor_Coe_tfidf, polar_h, polar_b to tring the model\n",
    "X_train =  Train_set[['cos_sim_tfidf','overlap','P_Cor_Coe_tfidf','Euc_distance_tfidf','LM_kld']]\n",
    "X_valid = Valid_set[['cos_sim_tfidf','overlap','P_Cor_Coe_tfidf','Euc_distance_tfidf','LM_kld']]\n",
    "X_test = Pred_Test_features[['cos_sim_tfidf','overlap','P_Cor_Coe_tfidf','Euc_distance_tfidf','LM_kld']]"
   ]
  },
  {
   "cell_type": "code",
   "execution_count": 117,
   "metadata": {
    "collapsed": true
   },
   "outputs": [],
   "source": [
    "def normalisation(data):\n",
    "    col=['cos_sim_tfidf','overlap','P_Cor_Coe_tfidf','Euc_distance_tfidf','LM_kld']\n",
    "    df=data.copy()\n",
    "    for c in col:\n",
    "        df[c]=(df[c]-df[c].mean())/df[c].std()\n",
    "    return df\n"
   ]
  },
  {
   "cell_type": "code",
   "execution_count": 118,
   "metadata": {
    "collapsed": true
   },
   "outputs": [],
   "source": [
    "X_train=normalisation(X_train)\n",
    "X_valid=normalisation(X_valid)\n",
    "X_test=normalisation(X_test)"
   ]
  },
  {
   "cell_type": "code",
   "execution_count": 119,
   "metadata": {},
   "outputs": [
    {
     "data": {
      "text/html": [
       "<div>\n",
       "<style scoped>\n",
       "    .dataframe tbody tr th:only-of-type {\n",
       "        vertical-align: middle;\n",
       "    }\n",
       "\n",
       "    .dataframe tbody tr th {\n",
       "        vertical-align: top;\n",
       "    }\n",
       "\n",
       "    .dataframe thead th {\n",
       "        text-align: right;\n",
       "    }\n",
       "</style>\n",
       "<table border=\"1\" class=\"dataframe\">\n",
       "  <thead>\n",
       "    <tr style=\"text-align: right;\">\n",
       "      <th></th>\n",
       "      <th>cos_sim_tfidf</th>\n",
       "      <th>overlap</th>\n",
       "      <th>P_Cor_Coe_tfidf</th>\n",
       "      <th>Euc_distance_tfidf</th>\n",
       "      <th>LM_kld</th>\n",
       "    </tr>\n",
       "  </thead>\n",
       "  <tbody>\n",
       "    <tr>\n",
       "      <th>21984</th>\n",
       "      <td>2.152899</td>\n",
       "      <td>1.258843</td>\n",
       "      <td>2.152338</td>\n",
       "      <td>-1.395411</td>\n",
       "      <td>-1.280838</td>\n",
       "    </tr>\n",
       "    <tr>\n",
       "      <th>37301</th>\n",
       "      <td>1.650132</td>\n",
       "      <td>0.361987</td>\n",
       "      <td>1.650000</td>\n",
       "      <td>0.506798</td>\n",
       "      <td>-1.574915</td>\n",
       "    </tr>\n",
       "    <tr>\n",
       "      <th>43316</th>\n",
       "      <td>1.379746</td>\n",
       "      <td>0.403715</td>\n",
       "      <td>1.380062</td>\n",
       "      <td>-0.150166</td>\n",
       "      <td>-0.938676</td>\n",
       "    </tr>\n",
       "    <tr>\n",
       "      <th>31986</th>\n",
       "      <td>2.531044</td>\n",
       "      <td>0.024469</td>\n",
       "      <td>2.534597</td>\n",
       "      <td>-0.481756</td>\n",
       "      <td>-2.032725</td>\n",
       "    </tr>\n",
       "    <tr>\n",
       "      <th>39781</th>\n",
       "      <td>1.140260</td>\n",
       "      <td>0.227124</td>\n",
       "      <td>1.140252</td>\n",
       "      <td>0.510099</td>\n",
       "      <td>-0.550300</td>\n",
       "    </tr>\n",
       "  </tbody>\n",
       "</table>\n",
       "</div>"
      ],
      "text/plain": [
       "       cos_sim_tfidf   overlap  P_Cor_Coe_tfidf  Euc_distance_tfidf    LM_kld\n",
       "21984       2.152899  1.258843         2.152338           -1.395411 -1.280838\n",
       "37301       1.650132  0.361987         1.650000            0.506798 -1.574915\n",
       "43316       1.379746  0.403715         1.380062           -0.150166 -0.938676\n",
       "31986       2.531044  0.024469         2.534597           -0.481756 -2.032725\n",
       "39781       1.140260  0.227124         1.140252            0.510099 -0.550300"
      ]
     },
     "execution_count": 119,
     "metadata": {},
     "output_type": "execute_result"
    }
   ],
   "source": [
    "X_train.head()"
   ]
  },
  {
   "cell_type": "code",
   "execution_count": 120,
   "metadata": {
    "collapsed": true
   },
   "outputs": [],
   "source": [
    "m = len(X_train)\n",
    "\n",
    "x0 = np.ones(m)\n",
    "#cos_sim_tfidf=Train_set['cos_sim_tfidf'].values\n",
    "#overlap=Train_set['overlap'].values\n",
    "#P_Cor_Coe_tfidf=Train_set['P_Cor_Coe_tfidf'].values\n",
    "\n",
    "X = X_train.copy()\n",
    "X['x0']=x0\n",
    "X = X[['x0','cos_sim_tfidf','overlap','P_Cor_Coe_tfidf','Euc_distance_tfidf','LM_kld']]\n",
    "# Initialise Coefficients\n",
    "B1 = np.array([0, 0, 0, 0, 0, 0])\n",
    "B2 = np.array([0, 0, 0, 0, 0, 0])\n",
    "B3 = np.array([0, 0, 0, 0, 0, 0])\n",
    "B4 = np.array([0, 0, 0, 0, 0, 0])\n",
    "# Define Y of Four Stance \n",
    "Y1 = np.array(Train_set['y1'].values)\n",
    "Y2 = np.array(Train_set['y2'].values)\n",
    "Y3 = np.array(Train_set['y3'].values)\n",
    "Y4 = np.array(Train_set['y4'].values)\n",
    "alpha = 0.5"
   ]
  },
  {
   "cell_type": "code",
   "execution_count": 121,
   "metadata": {},
   "outputs": [
    {
     "data": {
      "text/html": [
       "<div>\n",
       "<style scoped>\n",
       "    .dataframe tbody tr th:only-of-type {\n",
       "        vertical-align: middle;\n",
       "    }\n",
       "\n",
       "    .dataframe tbody tr th {\n",
       "        vertical-align: top;\n",
       "    }\n",
       "\n",
       "    .dataframe thead th {\n",
       "        text-align: right;\n",
       "    }\n",
       "</style>\n",
       "<table border=\"1\" class=\"dataframe\">\n",
       "  <thead>\n",
       "    <tr style=\"text-align: right;\">\n",
       "      <th></th>\n",
       "      <th>x0</th>\n",
       "      <th>cos_sim_tfidf</th>\n",
       "      <th>overlap</th>\n",
       "      <th>P_Cor_Coe_tfidf</th>\n",
       "      <th>Euc_distance_tfidf</th>\n",
       "      <th>LM_kld</th>\n",
       "    </tr>\n",
       "  </thead>\n",
       "  <tbody>\n",
       "    <tr>\n",
       "      <th>21984</th>\n",
       "      <td>1.0</td>\n",
       "      <td>2.152899</td>\n",
       "      <td>1.258843</td>\n",
       "      <td>2.152338</td>\n",
       "      <td>-1.395411</td>\n",
       "      <td>-1.280838</td>\n",
       "    </tr>\n",
       "    <tr>\n",
       "      <th>37301</th>\n",
       "      <td>1.0</td>\n",
       "      <td>1.650132</td>\n",
       "      <td>0.361987</td>\n",
       "      <td>1.650000</td>\n",
       "      <td>0.506798</td>\n",
       "      <td>-1.574915</td>\n",
       "    </tr>\n",
       "    <tr>\n",
       "      <th>43316</th>\n",
       "      <td>1.0</td>\n",
       "      <td>1.379746</td>\n",
       "      <td>0.403715</td>\n",
       "      <td>1.380062</td>\n",
       "      <td>-0.150166</td>\n",
       "      <td>-0.938676</td>\n",
       "    </tr>\n",
       "    <tr>\n",
       "      <th>31986</th>\n",
       "      <td>1.0</td>\n",
       "      <td>2.531044</td>\n",
       "      <td>0.024469</td>\n",
       "      <td>2.534597</td>\n",
       "      <td>-0.481756</td>\n",
       "      <td>-2.032725</td>\n",
       "    </tr>\n",
       "    <tr>\n",
       "      <th>39781</th>\n",
       "      <td>1.0</td>\n",
       "      <td>1.140260</td>\n",
       "      <td>0.227124</td>\n",
       "      <td>1.140252</td>\n",
       "      <td>0.510099</td>\n",
       "      <td>-0.550300</td>\n",
       "    </tr>\n",
       "  </tbody>\n",
       "</table>\n",
       "</div>"
      ],
      "text/plain": [
       "        x0  cos_sim_tfidf   overlap  P_Cor_Coe_tfidf  Euc_distance_tfidf  \\\n",
       "21984  1.0       2.152899  1.258843         2.152338           -1.395411   \n",
       "37301  1.0       1.650132  0.361987         1.650000            0.506798   \n",
       "43316  1.0       1.379746  0.403715         1.380062           -0.150166   \n",
       "31986  1.0       2.531044  0.024469         2.534597           -0.481756   \n",
       "39781  1.0       1.140260  0.227124         1.140252            0.510099   \n",
       "\n",
       "         LM_kld  \n",
       "21984 -1.280838  \n",
       "37301 -1.574915  \n",
       "43316 -0.938676  \n",
       "31986 -2.032725  \n",
       "39781 -0.550300  "
      ]
     },
     "execution_count": 121,
     "metadata": {},
     "output_type": "execute_result"
    }
   ],
   "source": [
    "X.head()"
   ]
  },
  {
   "cell_type": "code",
   "execution_count": 122,
   "metadata": {
    "collapsed": true
   },
   "outputs": [],
   "source": [
    "def cost_function(X, Y, B):\n",
    "    m = len(Y)\n",
    "    J = np.sum((X.dot(B) - Y) ** 2)/( 2* m)\n",
    "    return J\n",
    "\n",
    "def gradient_descent(X, Y, B, alpha, iterations):\n",
    "    cost_history = [0] * iterations\n",
    "    m = len(Y)\n",
    "    \n",
    "    for iteration in range(iterations):\n",
    "        h = X.dot(B)\n",
    "        loss = h - Y\n",
    "        gradient = X.T.dot(loss) / m\n",
    "        B = B - alpha * gradient\n",
    "        cost = cost_function(X, Y, B)\n",
    "        cost_history[iteration] = cost\n",
    "        \n",
    "    return B, cost_history"
   ]
  },
  {
   "cell_type": "code",
   "execution_count": 123,
   "metadata": {},
   "outputs": [
    {
     "data": {
      "text/plain": [
       "0.5"
      ]
     },
     "execution_count": 123,
     "metadata": {},
     "output_type": "execute_result"
    }
   ],
   "source": [
    "cost_function(X, Y1, B1)"
   ]
  },
  {
   "cell_type": "code",
   "execution_count": 124,
   "metadata": {
    "collapsed": true
   },
   "outputs": [],
   "source": [
    "#19:46\n",
    "newB1, cost_history1 = gradient_descent(X, Y1, B1, alpha, 20000)\n",
    "newB2, cost_history2 = gradient_descent(X, Y2, B2, alpha, 20000)\n",
    "newB3, cost_history3 = gradient_descent(X, Y3, B3, alpha, 20000)\n",
    "newB4, cost_history4 = gradient_descent(X, Y4, B4, alpha, 20000)"
   ]
  },
  {
   "cell_type": "code",
   "execution_count": 157,
   "metadata": {},
   "outputs": [
    {
     "data": {
      "text/plain": [
       "[<matplotlib.lines.Line2D at 0x1a1ff10dd8>]"
      ]
     },
     "execution_count": 157,
     "metadata": {},
     "output_type": "execute_result"
    },
    {
     "data": {
      "image/png": "[encoded data removed]",
      "text/plain": [
       "<matplotlib.figure.Figure at 0x1a1fde6550>"
      ]
     },
     "metadata": {},
     "output_type": "display_data"
    }
   ],
   "source": [
    "plt.plot(cost_history1[0:10])"
   ]
  },
  {
   "cell_type": "code",
   "execution_count": 130,
   "metadata": {},
   "outputs": [
    {
     "name": "stdout",
     "output_type": "stream",
     "text": [
      "0.110532073475 0.0319763136372 0.165291752997 0.0981376739077\n"
     ]
    }
   ],
   "source": [
    "print(cost_history1[-1],cost_history2[-1],cost_history3[-1],cost_history4[-1])"
   ]
  },
  {
   "cell_type": "code",
   "execution_count": 132,
   "metadata": {},
   "outputs": [
    {
     "data": {
      "text/plain": [
       "x0                   -0.852804\n",
       "cos_sim_tfidf         0.309108\n",
       "overlap               0.027800\n",
       "P_Cor_Coe_tfidf      -0.093971\n",
       "Euc_distance_tfidf    0.055790\n",
       "LM_kld               -0.000376\n",
       "dtype: float64"
      ]
     },
     "execution_count": 132,
     "metadata": {},
     "output_type": "execute_result"
    }
   ],
   "source": [
    "#Final Weight for Agree classifier\n",
    "newB1"
   ]
  },
  {
   "cell_type": "code",
   "execution_count": 133,
   "metadata": {},
   "outputs": [
    {
     "data": {
      "text/plain": [
       "x0                   -0.966381\n",
       "cos_sim_tfidf         0.032298\n",
       "overlap              -0.007607\n",
       "P_Cor_Coe_tfidf       0.019401\n",
       "Euc_distance_tfidf    0.011230\n",
       "LM_kld               -0.000716\n",
       "dtype: float64"
      ]
     },
     "execution_count": 133,
     "metadata": {},
     "output_type": "execute_result"
    }
   ],
   "source": [
    "#Final Weight for Disagree classifier\n",
    "newB2"
   ]
  },
  {
   "cell_type": "code",
   "execution_count": 134,
   "metadata": {},
   "outputs": [
    {
     "data": {
      "text/plain": [
       "x0                   -0.643438\n",
       "cos_sim_tfidf        -0.573539\n",
       "overlap               0.020849\n",
       "P_Cor_Coe_tfidf       0.977776\n",
       "Euc_distance_tfidf   -0.046998\n",
       "LM_kld               -0.107907\n",
       "dtype: float64"
      ]
     },
     "execution_count": 134,
     "metadata": {},
     "output_type": "execute_result"
    }
   ],
   "source": [
    "#Final Weight for Discuss classifier\n",
    "newB3"
   ]
  },
  {
   "cell_type": "code",
   "execution_count": 135,
   "metadata": {},
   "outputs": [
    {
     "data": {
      "text/plain": [
       "x0                    0.462623\n",
       "cos_sim_tfidf         0.232134\n",
       "overlap              -0.041042\n",
       "P_Cor_Coe_tfidf      -0.903206\n",
       "Euc_distance_tfidf   -0.020022\n",
       "LM_kld                0.108999\n",
       "dtype: float64"
      ]
     },
     "execution_count": 135,
     "metadata": {},
     "output_type": "execute_result"
    }
   ],
   "source": [
    "#Final Weight for Unrelated classifier\n",
    "newB4"
   ]
  },
  {
   "cell_type": "code",
   "execution_count": 171,
   "metadata": {},
   "outputs": [
    {
     "data": {
      "image/png": "[encoded data removed]",
      "text/plain": [
       "<matplotlib.figure.Figure at 0x1a244fd668>"
      ]
     },
     "metadata": {},
     "output_type": "display_data"
    }
   ],
   "source": [
    "#Plot Weight Heatmap Matrix\n",
    "np.matrix([newB1,newB2,newB3,newB4])\n",
    "\n",
    "fig, ax = plt.subplots(figsize=(5,4))\n",
    "sns.heatmap(np.matrix([newB1[1:],newB2[1:],newB3[1:],newB4[1:]]), annot=True, xticklabels=['cos', 'ovr', 'Per','euc','kl'], yticklabels=['argee', 'disagree', 'discuss','unrelated']#\n",
    "           ,cmap='GnBu' )\n",
    "\n",
    "plt.ylabel('Class')\n",
    "plt.xlabel('Feature Weight')\n",
    "plt.show()"
   ]
  },
  {
   "cell_type": "markdown",
   "metadata": {},
   "source": [
    "### Test and Evaluation "
   ]
  },
  {
   "cell_type": "code",
   "execution_count": 146,
   "metadata": {},
   "outputs": [
    {
     "data": {
      "text/plain": [
       "'correct=0\\nagree_correct=0\\ndisagree_correct=0\\ndiscuss_correct=0\\nunrelated_correct=0\\n\\nfor i in range(len(real_result)):\\n   if pred_result[i]==real_result[i]:\\n       correct=correct+1\\n       if pred_result[i]==1:\\n           agree_correct=agree_correct+1\\n       elif pred_result[i]==2:\\n           disagree_correct=disagree_correct+1\\n       elif pred_result[i]==3:\\n           discuss_correct=discuss_correct+1\\n       else:\\n           unrelated_correct=unrelated_correct+1\\n           \\n'"
      ]
     },
     "execution_count": 146,
     "metadata": {},
     "output_type": "execute_result"
    }
   ],
   "source": [
    " \n",
    "def evaluation (Y_pagree,Y_pdisagree,Y_pdiscuss,Y_punrelated,Y_real):\n",
    "\n",
    "    matrix=np.matrix([Y_pagree, Y_pdisagree, Y_pdiscuss, Y_punrelated]).T\n",
    "    matrix=np.abs(matrix-1)\n",
    "    minind=np.argmin(matrix , axis=1)\n",
    "\n",
    "    pred_result=[]\n",
    "    for i in range(minind.shape[0]):\n",
    "        pred_result.append(minind[i].item()+1)\n",
    "\n",
    "    real_result=Y_real\n",
    "    \n",
    "    correct=0\n",
    "    for i in range(len(Y_real)):\n",
    "        if pred_result[i]==real_result[i]:\n",
    "            correct=correct+1\n",
    "        \n",
    "    accuracy = correct/len(Y_real)\n",
    "    print(\"The accuracy is: \",accuracy)\n",
    "\n",
    "    from sklearn.metrics import confusion_matrix \n",
    "    confusion_matrix = confusion_matrix(real_result, pred_result)\n",
    "    print(\"The confusion matrix is: \")\n",
    "    print(confusion_matrix)\n",
    "\n",
    "    from sklearn.metrics import classification_report\n",
    "    target_names = ['agree', 'disagree', 'discuss', 'unrelated']\n",
    "    print(classification_report(real_result, pred_result,  target_names=target_names))\n",
    "\n",
    "\n",
    "    fig, ax = plt.subplots(figsize=(5,4))\n",
    "    sns.heatmap(confusion_matrix, annot=True, fmt='d', xticklabels=['argee', 'disagree', 'discuss','unrelated'], yticklabels=['argee', 'disagree', 'discuss','unrelated']#\n",
    "           ,cmap='GnBu' )\n",
    "    \n",
    "    \n",
    "    plt.ylabel('Actual')\n",
    "    plt.xlabel('Predicted')\n",
    "    plt.show()\n",
    "    \n",
    "\n",
    "\n",
    "\"\"\"correct=0\n",
    "agree_correct=0\n",
    "disagree_correct=0\n",
    "discuss_correct=0\n",
    "unrelated_correct=0\n",
    "\n",
    "for i in range(len(real_result)):\n",
    "    if pred_result[i]==real_result[i]:\n",
    "        correct=correct+1\n",
    "        if pred_result[i]==1:\n",
    "            agree_correct=agree_correct+1\n",
    "        elif pred_result[i]==2:\n",
    "            disagree_correct=disagree_correct+1\n",
    "        elif pred_result[i]==3:\n",
    "            discuss_correct=discuss_correct+1\n",
    "        else:\n",
    "            unrelated_correct=unrelated_correct+1\n",
    "            \n",
    "\"\"\"\n",
    "        \n",
    "\n"
   ]
  },
  {
   "cell_type": "code",
   "execution_count": null,
   "metadata": {
    "collapsed": true
   },
   "outputs": [],
   "source": []
  },
  {
   "cell_type": "markdown",
   "metadata": {},
   "source": [
    "#### Test on the Validation Set"
   ]
  },
  {
   "cell_type": "code",
   "execution_count": 138,
   "metadata": {
    "collapsed": true
   },
   "outputs": [],
   "source": [
    "X_v = X_valid.copy()\n",
    "X_v['x0']=1\n",
    "X_v = X_v[['x0','cos_sim_tfidf','overlap','P_Cor_Coe_tfidf','Euc_distance_tfidf','LM_kld']]\n",
    "\n",
    "# Define Y of Four Stance \n",
    "Y1_v = np.array(Valid_set['y1'].values)\n",
    "Y2_v = np.array(Valid_set['y2'].values)\n",
    "Y3_v = np.array(Valid_set['y3'].values)\n",
    "Y4_v = np.array(Valid_set['y4'].values)"
   ]
  },
  {
   "cell_type": "code",
   "execution_count": 139,
   "metadata": {
    "collapsed": true
   },
   "outputs": [],
   "source": [
    "Y_pred1_v = X_v.dot(newB1)\n",
    "Y_pred2_v = X_v.dot(newB2)\n",
    "Y_pred3_v = X_v.dot(newB3)\n",
    "Y_pred4_v = X_v.dot(newB4)"
   ]
  },
  {
   "cell_type": "code",
   "execution_count": 147,
   "metadata": {},
   "outputs": [
    {
     "name": "stdout",
     "output_type": "stream",
     "text": [
      "The accuracy is:  0.8589435774309724\n",
      "The confusion matrix is: \n",
      "[[   1    0  268   99]\n",
      " [   0    0   67   17]\n",
      " [   1    0  640  250]\n",
      " [   0    0    3 3652]]\n",
      "             precision    recall  f1-score   support\n",
      "\n",
      "      agree       0.50      0.00      0.01       368\n",
      "   disagree       0.00      0.00      0.00        84\n",
      "    discuss       0.65      0.72      0.68       891\n",
      "  unrelated       0.91      1.00      0.95      3655\n",
      "\n",
      "avg / total       0.82      0.86      0.82      4998\n",
      "\n"
     ]
    },
    {
     "name": "stderr",
     "output_type": "stream",
     "text": [
      "/Users/weisihan/anaconda3/lib/python3.6/site-packages/sklearn/metrics/classification.py:1135: UndefinedMetricWarning: Precision and F-score are ill-defined and being set to 0.0 in labels with no predicted samples.\n",
      "  'precision', 'predicted', average, warn_for)\n"
     ]
    },
    {
     "data": {
      "image/png": "[encoded data removed]",
      "text/plain": [
       "<matplotlib.figure.Figure at 0x1a237934e0>"
      ]
     },
     "metadata": {},
     "output_type": "display_data"
    }
   ],
   "source": [
    "evaluation(Y_pred1_v,Y_pred2_v,Y_pred3_v,Y_pred4_v, list(Valid_set['y']))"
   ]
  },
  {
   "cell_type": "markdown",
   "metadata": {},
   "source": [
    "#### Test on the Test Set"
   ]
  },
  {
   "cell_type": "code",
   "execution_count": 141,
   "metadata": {
    "collapsed": true
   },
   "outputs": [],
   "source": [
    "X_t = X_test.copy()\n",
    "X_t['x0']=1\n",
    "X_t = X_t[['x0','cos_sim_tfidf','overlap','P_Cor_Coe_tfidf','Euc_distance_tfidf','LM_kld']]\n",
    "\n",
    "# Define Y of Four Stance \n",
    "Y1_t = np.array(Pred_Test_features['y1'].values)\n",
    "Y2_t = np.array(Pred_Test_features['y2'].values)\n",
    "Y3_t = np.array(Pred_Test_features['y3'].values)\n",
    "Y4_t = np.array(Pred_Test_features['y4'].values)"
   ]
  },
  {
   "cell_type": "code",
   "execution_count": 142,
   "metadata": {
    "collapsed": true
   },
   "outputs": [],
   "source": [
    "Y_pred1_t = X_t.dot(newB1)\n",
    "Y_pred2_t = X_t.dot(newB2)\n",
    "Y_pred3_t = X_t.dot(newB3)\n",
    "Y_pred4_t = X_t.dot(newB4)"
   ]
  },
  {
   "cell_type": "code",
   "execution_count": 148,
   "metadata": {},
   "outputs": [
    {
     "name": "stdout",
     "output_type": "stream",
     "text": [
      "The accuracy is:  0.8450005902490851\n",
      "The confusion matrix is: \n",
      "[[    3     0  1400   500]\n",
      " [    0     0   398   299]\n",
      " [    9     0  3150  1305]\n",
      " [    0     0    28 18321]]\n",
      "             precision    recall  f1-score   support\n",
      "\n",
      "      agree       0.25      0.00      0.00      1903\n",
      "   disagree       0.00      0.00      0.00       697\n",
      "    discuss       0.63      0.71      0.67      4464\n",
      "  unrelated       0.90      1.00      0.95     18349\n",
      "\n",
      "avg / total       0.78      0.85      0.80     25413\n",
      "\n"
     ]
    },
    {
     "name": "stderr",
     "output_type": "stream",
     "text": [
      "/Users/weisihan/anaconda3/lib/python3.6/site-packages/sklearn/metrics/classification.py:1135: UndefinedMetricWarning: Precision and F-score are ill-defined and being set to 0.0 in labels with no predicted samples.\n",
      "  'precision', 'predicted', average, warn_for)\n"
     ]
    },
    {
     "data": {
      "image/png": "[encoded data removed]",
      "text/plain": [
       "<matplotlib.figure.Figure at 0x1a1fdc0ba8>"
      ]
     },
     "metadata": {},
     "output_type": "display_data"
    }
   ],
   "source": [
    "evaluation(Y_pred1_t,Y_pred2_t,Y_pred3_t,Y_pred4_t, list(Pred_Test_features['y']))"
   ]
  },
  {
   "cell_type": "code",
   "execution_count": null,
   "metadata": {
    "collapsed": true
   },
   "outputs": [],
   "source": []
  }
 ],
 "metadata": {
  "kernelspec": {
   "display_name": "Python 3",
   "language": "python",
   "name": "python3"
  },
  "language_info": {
   "codemirror_mode": {
    "name": "ipython",
    "version": 3
   },
   "file_extension": ".py",
   "mimetype": "text/x-python",
   "name": "python",
   "nbconvert_exporter": "python",
   "pygments_lexer": "ipython3",
   "version": "3.6.2"
  }
 },
 "nbformat": 4,
 "nbformat_minor": 2
}
